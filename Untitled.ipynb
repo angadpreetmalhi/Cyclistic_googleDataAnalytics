{
 "cells": [
  {
   "cell_type": "code",
   "execution_count": 2,
   "id": "cfa4f899",
   "metadata": {},
   "outputs": [],
   "source": [
    "import pandas as pd\n",
    "import numpy as np\n",
    "import matplotlib.pyplot as plt\n",
    "import datetime"
   ]
  },
  {
   "cell_type": "code",
   "execution_count": 3,
   "id": "3dc48489",
   "metadata": {},
   "outputs": [],
   "source": [
    "#import data file\n",
    "data1= pd.read_csv(\"202301-divvy-tripdata.csv\")\n",
    "data2= pd.read_csv(\"202302-divvy-tripdata.csv\")\n",
    "data3= pd.read_csv(\"202303-divvy-tripdata.csv\")\n",
    "data4= pd.read_csv(\"202304-divvy-tripdata.csv\")\n",
    "data5= pd.read_csv(\"202305-divvy-tripdata.csv\")\n",
    "data6= pd.read_csv(\"202306-divvy-tripdata.csv\")\n",
    "data7= pd.read_csv(\"202207-divvy-tripdata.csv\")\n",
    "data8= pd.read_csv(\"202208-divvy-tripdata.csv\")\n",
    "data9= pd.read_csv(\"202209-divvy-tripdata.csv\")\n",
    "data10= pd.read_csv(\"202210-divvy-tripdata.csv\")\n",
    "data11= pd.read_csv(\"202211-divvy-tripdata.csv\")\n",
    "data12= pd.read_csv(\"202212-divvy-tripdata.csv\")"
   ]
  },
  {
   "cell_type": "code",
   "execution_count": 4,
   "id": "8bb248d9",
   "metadata": {},
   "outputs": [],
   "source": [
    "data = pd.concat((data1,data2,data3,data4,data5,data6,data7,data8,data9,data10,data11,data12), ignore_index=True)\n"
   ]
  },
  {
   "cell_type": "code",
   "execution_count": 5,
   "id": "a956f872",
   "metadata": {},
   "outputs": [
    {
     "data": {
      "text/html": [
       "<div>\n",
       "<style scoped>\n",
       "    .dataframe tbody tr th:only-of-type {\n",
       "        vertical-align: middle;\n",
       "    }\n",
       "\n",
       "    .dataframe tbody tr th {\n",
       "        vertical-align: top;\n",
       "    }\n",
       "\n",
       "    .dataframe thead th {\n",
       "        text-align: right;\n",
       "    }\n",
       "</style>\n",
       "<table border=\"1\" class=\"dataframe\">\n",
       "  <thead>\n",
       "    <tr style=\"text-align: right;\">\n",
       "      <th></th>\n",
       "      <th>ride_id</th>\n",
       "      <th>rideable_type</th>\n",
       "      <th>started_at</th>\n",
       "      <th>ended_at</th>\n",
       "      <th>start_station_name</th>\n",
       "      <th>start_station_id</th>\n",
       "      <th>end_station_name</th>\n",
       "      <th>end_station_id</th>\n",
       "      <th>start_lat</th>\n",
       "      <th>start_lng</th>\n",
       "      <th>end_lat</th>\n",
       "      <th>end_lng</th>\n",
       "      <th>member_casual</th>\n",
       "      <th>ride_length</th>\n",
       "    </tr>\n",
       "  </thead>\n",
       "  <tbody>\n",
       "    <tr>\n",
       "      <th>0</th>\n",
       "      <td>F96D5A74A3E41399</td>\n",
       "      <td>electric_bike</td>\n",
       "      <td>2023-01-21 20:05:42</td>\n",
       "      <td>2023-01-21 20:16:33</td>\n",
       "      <td>Lincoln Ave &amp; Fullerton Ave</td>\n",
       "      <td>TA1309000058</td>\n",
       "      <td>Hampden Ct &amp; Diversey Ave</td>\n",
       "      <td>202480.0</td>\n",
       "      <td>41.924074</td>\n",
       "      <td>-87.646278</td>\n",
       "      <td>41.930000</td>\n",
       "      <td>-87.640000</td>\n",
       "      <td>member</td>\n",
       "      <td>NaN</td>\n",
       "    </tr>\n",
       "    <tr>\n",
       "      <th>1</th>\n",
       "      <td>13CB7EB698CEDB88</td>\n",
       "      <td>classic_bike</td>\n",
       "      <td>2023-01-10 15:37:36</td>\n",
       "      <td>2023-01-10 15:46:05</td>\n",
       "      <td>Kimbark Ave &amp; 53rd St</td>\n",
       "      <td>TA1309000037</td>\n",
       "      <td>Greenwood Ave &amp; 47th St</td>\n",
       "      <td>TA1308000002</td>\n",
       "      <td>41.799568</td>\n",
       "      <td>-87.594747</td>\n",
       "      <td>41.809835</td>\n",
       "      <td>-87.599383</td>\n",
       "      <td>member</td>\n",
       "      <td>NaN</td>\n",
       "    </tr>\n",
       "    <tr>\n",
       "      <th>2</th>\n",
       "      <td>BD88A2E670661CE5</td>\n",
       "      <td>electric_bike</td>\n",
       "      <td>2023-01-02 07:51:57</td>\n",
       "      <td>2023-01-02 08:05:11</td>\n",
       "      <td>Western Ave &amp; Lunt Ave</td>\n",
       "      <td>RP-005</td>\n",
       "      <td>Valli Produce - Evanston Plaza</td>\n",
       "      <td>599</td>\n",
       "      <td>42.008571</td>\n",
       "      <td>-87.690483</td>\n",
       "      <td>42.039742</td>\n",
       "      <td>-87.699413</td>\n",
       "      <td>casual</td>\n",
       "      <td>NaN</td>\n",
       "    </tr>\n",
       "    <tr>\n",
       "      <th>3</th>\n",
       "      <td>C90792D034FED968</td>\n",
       "      <td>classic_bike</td>\n",
       "      <td>2023-01-22 10:52:58</td>\n",
       "      <td>2023-01-22 11:01:44</td>\n",
       "      <td>Kimbark Ave &amp; 53rd St</td>\n",
       "      <td>TA1309000037</td>\n",
       "      <td>Greenwood Ave &amp; 47th St</td>\n",
       "      <td>TA1308000002</td>\n",
       "      <td>41.799568</td>\n",
       "      <td>-87.594747</td>\n",
       "      <td>41.809835</td>\n",
       "      <td>-87.599383</td>\n",
       "      <td>member</td>\n",
       "      <td>NaN</td>\n",
       "    </tr>\n",
       "    <tr>\n",
       "      <th>4</th>\n",
       "      <td>3397017529188E8A</td>\n",
       "      <td>classic_bike</td>\n",
       "      <td>2023-01-12 13:58:01</td>\n",
       "      <td>2023-01-12 14:13:20</td>\n",
       "      <td>Kimbark Ave &amp; 53rd St</td>\n",
       "      <td>TA1309000037</td>\n",
       "      <td>Greenwood Ave &amp; 47th St</td>\n",
       "      <td>TA1308000002</td>\n",
       "      <td>41.799568</td>\n",
       "      <td>-87.594747</td>\n",
       "      <td>41.809835</td>\n",
       "      <td>-87.599383</td>\n",
       "      <td>member</td>\n",
       "      <td>NaN</td>\n",
       "    </tr>\n",
       "  </tbody>\n",
       "</table>\n",
       "</div>"
      ],
      "text/plain": [
       "            ride_id  rideable_type           started_at             ended_at  \\\n",
       "0  F96D5A74A3E41399  electric_bike  2023-01-21 20:05:42  2023-01-21 20:16:33   \n",
       "1  13CB7EB698CEDB88   classic_bike  2023-01-10 15:37:36  2023-01-10 15:46:05   \n",
       "2  BD88A2E670661CE5  electric_bike  2023-01-02 07:51:57  2023-01-02 08:05:11   \n",
       "3  C90792D034FED968   classic_bike  2023-01-22 10:52:58  2023-01-22 11:01:44   \n",
       "4  3397017529188E8A   classic_bike  2023-01-12 13:58:01  2023-01-12 14:13:20   \n",
       "\n",
       "            start_station_name start_station_id  \\\n",
       "0  Lincoln Ave & Fullerton Ave     TA1309000058   \n",
       "1        Kimbark Ave & 53rd St     TA1309000037   \n",
       "2       Western Ave & Lunt Ave           RP-005   \n",
       "3        Kimbark Ave & 53rd St     TA1309000037   \n",
       "4        Kimbark Ave & 53rd St     TA1309000037   \n",
       "\n",
       "                 end_station_name end_station_id  start_lat  start_lng  \\\n",
       "0       Hampden Ct & Diversey Ave       202480.0  41.924074 -87.646278   \n",
       "1         Greenwood Ave & 47th St   TA1308000002  41.799568 -87.594747   \n",
       "2  Valli Produce - Evanston Plaza            599  42.008571 -87.690483   \n",
       "3         Greenwood Ave & 47th St   TA1308000002  41.799568 -87.594747   \n",
       "4         Greenwood Ave & 47th St   TA1308000002  41.799568 -87.594747   \n",
       "\n",
       "     end_lat    end_lng member_casual  ride_length  \n",
       "0  41.930000 -87.640000        member          NaN  \n",
       "1  41.809835 -87.599383        member          NaN  \n",
       "2  42.039742 -87.699413        casual          NaN  \n",
       "3  41.809835 -87.599383        member          NaN  \n",
       "4  41.809835 -87.599383        member          NaN  "
      ]
     },
     "execution_count": 5,
     "metadata": {},
     "output_type": "execute_result"
    }
   ],
   "source": [
    "#check data\n",
    "data.head()\n"
   ]
  },
  {
   "cell_type": "code",
   "execution_count": null,
   "id": "2d03a36e",
   "metadata": {},
   "outputs": [],
   "source": []
  },
  {
   "cell_type": "code",
   "execution_count": 6,
   "id": "c4280ed7",
   "metadata": {},
   "outputs": [],
   "source": [
    "#drop columns which is not important for analysis\n",
    "data.drop(['start_station_id','start_station_name','end_station_name','end_station_id'],axis=1,inplace=True)\n"
   ]
  },
  {
   "cell_type": "code",
   "execution_count": 7,
   "id": "3ab3bd43",
   "metadata": {},
   "outputs": [],
   "source": [
    "data['ride_length']=pd.to_datetime(data['ended_at'])-pd.to_datetime(data['started_at'])"
   ]
  },
  {
   "cell_type": "code",
   "execution_count": 8,
   "id": "703def20",
   "metadata": {},
   "outputs": [],
   "source": [
    "averageRideLength=pd.to_timedelta(data['ride_length']).mean()"
   ]
  },
  {
   "cell_type": "code",
   "execution_count": 9,
   "id": "cb3375ec",
   "metadata": {},
   "outputs": [],
   "source": [
    "#add new column\n",
    "data['rideLength']=''\n",
    "data['month']=''\n",
    "data['day']=''\n",
    "data['timing']=''\n"
   ]
  },
  {
   "cell_type": "code",
   "execution_count": 10,
   "id": "5c4a53dd",
   "metadata": {},
   "outputs": [],
   "source": [
    "#calculate length of ride\n",
    "data['rideLength']=pd.to_timedelta(data['ride_length']).astype('timedelta64[s]').astype(int)/3600\n"
   ]
  },
  {
   "cell_type": "code",
   "execution_count": 11,
   "id": "f525923a",
   "metadata": {},
   "outputs": [],
   "source": [
    "# retrieve month day and timing\n",
    "data['month'] = pd.to_datetime(data['started_at']).dt.month"
   ]
  },
  {
   "cell_type": "code",
   "execution_count": 12,
   "id": "bd3941cd",
   "metadata": {},
   "outputs": [],
   "source": [
    "data['day'] = pd.to_datetime(data['started_at']).dt.day_name()"
   ]
  },
  {
   "cell_type": "code",
   "execution_count": 13,
   "id": "b7b86912",
   "metadata": {},
   "outputs": [],
   "source": [
    "data['timing'] = pd.to_datetime(data['started_at']).dt.hour"
   ]
  },
  {
   "cell_type": "code",
   "execution_count": 14,
   "id": "283e0d05",
   "metadata": {},
   "outputs": [],
   "source": [
    "# get season data according to month\n",
    "data['season']=['winter' if x==1 or x==2 or x== 11 or x==12 \n",
    "                else 'Spring' if x==3 or x==4 or x==5   \n",
    "                else 'Summer' if x==6 or x==7 or x==8 \n",
    "                else 'Fall' for x in data['month']]"
   ]
  },
  {
   "cell_type": "code",
   "execution_count": 15,
   "id": "8724d216",
   "metadata": {},
   "outputs": [],
   "source": [
    "# get month's name according to month\n",
    "data['month']=['JAN' if x==1 else 'FEB' if x==2 else 'MAR' if x== 3 else 'APR' if x==4 else 'MAY' if x==5 \n",
    "               else 'JUN' if x==6 else 'JUL' if x== 7 else 'AUG' if x==8 else 'SEP' if x==9 else \n",
    "               'OCT' if x==10 else 'NOV' if x==11 else 'DEC'  for x in data['month']]"
   ]
  },
  {
   "cell_type": "code",
   "execution_count": 16,
   "id": "d3bbea57",
   "metadata": {},
   "outputs": [
    {
     "data": {
      "text/plain": [
       "18"
      ]
     },
     "execution_count": 16,
     "metadata": {},
     "output_type": "execute_result"
    }
   ],
   "source": [
    "#average Ride timing by rider in minutes\n",
    "import math\n",
    "round(averageRideLength.total_seconds()/60)"
   ]
  },
  {
   "cell_type": "code",
   "execution_count": 17,
   "id": "d86b85bd",
   "metadata": {},
   "outputs": [
    {
     "data": {
      "text/plain": [
       "5779444"
      ]
     },
     "execution_count": 17,
     "metadata": {},
     "output_type": "execute_result"
    }
   ],
   "source": [
    "# Total rides\n",
    "data['ride_length'].count()"
   ]
  },
  {
   "cell_type": "code",
   "execution_count": 18,
   "id": "905275b7",
   "metadata": {},
   "outputs": [],
   "source": [
    "groupBYmembers=data.groupby('member_casual')"
   ]
  },
  {
   "cell_type": "code",
   "execution_count": 19,
   "id": "64a65be2",
   "metadata": {},
   "outputs": [
    {
     "data": {
      "text/plain": [
       "Text(0, 0.5, 'No. of Rides')"
      ]
     },
     "execution_count": 19,
     "metadata": {},
     "output_type": "execute_result"
    },
    {
     "data": {
      "image/png": "[encoded data removed]",
      "text/plain": [
       "<Figure size 640x480 with 1 Axes>"
      ]
     },
     "metadata": {},
     "output_type": "display_data"
    }
   ],
   "source": [
    "a=groupBYmembers[['member_casual']].count()\n",
    "a.plot(kind='bar')\n",
    "plt.title('Memeber Type')\n",
    "plt.xlabel('Types')\n",
    "plt.ylabel('No. of Rides')"
   ]
  },
  {
   "cell_type": "code",
   "execution_count": 20,
   "id": "12cf90dc",
   "metadata": {},
   "outputs": [],
   "source": [
    "groupBYbikes=data.groupby('rideable_type')"
   ]
  },
  {
   "cell_type": "code",
   "execution_count": 21,
   "id": "00ece6bf",
   "metadata": {},
   "outputs": [
    {
     "data": {
      "text/plain": [
       "rideable_type\n",
       "classic_bike     2495320\n",
       "docked_bike       141535\n",
       "electric_bike    3142589\n",
       "Name: rideable_type, dtype: int64"
      ]
     },
     "execution_count": 21,
     "metadata": {},
     "output_type": "execute_result"
    }
   ],
   "source": [
    "groupBYbikes['rideable_type'].count()"
   ]
  },
  {
   "cell_type": "code",
   "execution_count": 22,
   "id": "daf168b6",
   "metadata": {},
   "outputs": [
    {
     "data": {
      "text/plain": [
       "member_casual  rideable_type\n",
       "casual         classic_bike      804367\n",
       "               docked_bike       141535\n",
       "               electric_bike    1298350\n",
       "member         classic_bike     1690953\n",
       "               electric_bike    1844239\n",
       "Name: ride_id, dtype: int64"
      ]
     },
     "execution_count": 22,
     "metadata": {},
     "output_type": "execute_result"
    }
   ],
   "source": [
    "# Bikes used by each members\n",
    "groupByMembersAndBikes= data.groupby(['member_casual','rideable_type'])['ride_id']\n",
    "groupByMembersAndBikes.count()"
   ]
  },
  {
   "cell_type": "code",
   "execution_count": 23,
   "id": "2d22cd11",
   "metadata": {},
   "outputs": [
    {
     "data": {
      "text/plain": [
       "member_casual  rideable_type\n",
       "casual         classic_bike     382766.0\n",
       "               docked_bike      329321.0\n",
       "               electric_bike    325099.0\n",
       "member         classic_bike     386981.0\n",
       "               electric_bike    342444.0\n",
       "Name: rideLength, dtype: float64"
      ]
     },
     "execution_count": 23,
     "metadata": {},
     "output_type": "execute_result"
    }
   ],
   "source": [
    "# number of hours different bikes drive by different members\n",
    "groupByMembersAndBikes= data.groupby(['member_casual','rideable_type'])['rideLength']\n",
    "groupByMembersAndBikes.sum().apply(np.ceil)"
   ]
  },
  {
   "cell_type": "code",
   "execution_count": 24,
   "id": "03d727dd",
   "metadata": {},
   "outputs": [
    {
     "data": {
      "text/plain": [
       "month\n",
       "APR    426590\n",
       "AUG    785932\n",
       "DEC    181806\n",
       "FEB    190445\n",
       "JAN    190301\n",
       "JUL    823488\n",
       "JUN    719618\n",
       "MAR    258678\n",
       "MAY    604827\n",
       "NOV    337735\n",
       "OCT    558685\n",
       "SEP    701339\n",
       "Name: ride_id, dtype: int64"
      ]
     },
     "execution_count": 24,
     "metadata": {},
     "output_type": "execute_result"
    }
   ],
   "source": [
    "# rides per month \n",
    "groupByRidesAndmonths= data.groupby(['month'])['ride_id']\n",
    "groupByRidesAndmonths.count()\n"
   ]
  },
  {
   "cell_type": "code",
   "execution_count": 25,
   "id": "1ea68ada",
   "metadata": {},
   "outputs": [
    {
     "data": {
      "text/plain": [
       "day\n",
       "Friday       865994\n",
       "Monday       730712\n",
       "Saturday     924388\n",
       "Sunday       739351\n",
       "Thursday     863962\n",
       "Tuesday      806146\n",
       "Wednesday    848891\n",
       "Name: ride_id, dtype: int64"
      ]
     },
     "execution_count": 25,
     "metadata": {},
     "output_type": "execute_result"
    }
   ],
   "source": [
    "#rides per day\n",
    "groupByDay= data.groupby(['day'])['ride_id']\n",
    "groupByDay.count()"
   ]
  },
  {
   "cell_type": "code",
   "execution_count": 26,
   "id": "92ff2f47",
   "metadata": {},
   "outputs": [
    {
     "data": {
      "text/plain": [
       "timing\n",
       "0      79815\n",
       "1      50649\n",
       "2      30230\n",
       "3      18150\n",
       "4      15894\n",
       "5      45064\n",
       "6     131860\n",
       "7     238457\n",
       "8     299667\n",
       "9     229140\n",
       "10    235042\n",
       "11    286942\n",
       "12    333248\n",
       "13    339959\n",
       "14    350673\n",
       "15    410468\n",
       "16    510676\n",
       "17    588065\n",
       "18    486371\n",
       "19    356428\n",
       "20    252513\n",
       "21    206212\n",
       "22    167030\n",
       "23    116891\n",
       "Name: member_casual, dtype: int64"
      ]
     },
     "execution_count": 26,
     "metadata": {},
     "output_type": "execute_result"
    }
   ],
   "source": [
    "#rides per hour of a day\n",
    "groupByTime= data.groupby(['timing'])['member_casual']\n",
    "groupByTime.count()"
   ]
  },
  {
   "cell_type": "code",
   "execution_count": 27,
   "id": "42100913",
   "metadata": {},
   "outputs": [
    {
     "data": {
      "text/plain": [
       "season\n",
       "Fall      1260024\n",
       "Spring    1290095\n",
       "Summer    2329038\n",
       "winter     900287\n",
       "Name: ride_id, dtype: int64"
      ]
     },
     "execution_count": 27,
     "metadata": {},
     "output_type": "execute_result"
    }
   ],
   "source": [
    "groupBySeasons= data.groupby(['season'])['ride_id']\n",
    "groupBySeasons.count()\n"
   ]
  },
  {
   "cell_type": "code",
   "execution_count": 28,
   "id": "81b48276",
   "metadata": {},
   "outputs": [],
   "source": [
    "data.to_csv('Data.csv')"
   ]
  },
  {
   "cell_type": "code",
   "execution_count": null,
   "id": "e9751544",
   "metadata": {},
   "outputs": [],
   "source": []
  }
 ],
 "metadata": {
  "kernelspec": {
   "display_name": "Python 3 (ipykernel)",
   "language": "python",
   "name": "python3"
  },
  "language_info": {
   "codemirror_mode": {
    "name": "ipython",
    "version": 3
   },
   "file_extension": ".py",
   "mimetype": "text/x-python",
   "name": "python",
   "nbconvert_exporter": "python",
   "pygments_lexer": "ipython3",
   "version": "3.9.13"
  }
 },
 "nbformat": 4,
 "nbformat_minor": 5
}
